{
  "nbformat": 4,
  "nbformat_minor": 0,
  "metadata": {
    "colab": {
      "name": "Blackjack-Game.ipynb",
      "provenance": [],
      "authorship_tag": "ABX9TyMjq0N8i4zc7TubD84EqjUp",
      "include_colab_link": true
    },
    "kernelspec": {
      "name": "python3",
      "display_name": "Python 3"
    },
    "language_info": {
      "name": "python"
    }
  },
  "cells": [
    {
      "cell_type": "markdown",
      "metadata": {
        "id": "view-in-github",
        "colab_type": "text"
      },
      "source": [
        "<a href=\"https://colab.research.google.com/github/mdrashedulhasan1/blackjack-game-with-python/blob/main/Blackjack_Game.ipynb\" target=\"_parent\"><img src=\"https://colab.research.google.com/assets/colab-badge.svg\" alt=\"Open In Colab\"/></a>"
      ]
    },
    {
      "cell_type": "code",
      "execution_count": null,
      "metadata": {
        "id": "DhNIghXWTOrX"
      },
      "outputs": [],
      "source": [
        "# J->10\n",
        "# Q->10\n",
        "# K->10\n",
        "# A->1 or 11\n",
        "\n",
        "import random\n",
        "def deal_card():\n",
        "    cards = [11, 2, 3, 4, 5, 6, 7, 8, 9, 10, 10, 10, 10]\n",
        "    card = random.choice(cards)\n",
        "    return card\n",
        "def calculate_score(cards):\n",
        "    if sum(cards) == 21 and len(cards) == 2:\n",
        "        return 0\n",
        "    if 11 in cards and sum(cards)>21:\n",
        "        cards.remove(11)\n",
        "        cards.append(1)\n",
        "    return sum(cards)\n",
        "user_cards = []\n",
        "computer_cards = []\n",
        "\n",
        "for _ in range(2):\n",
        "    user_cards.append(deal_card())\n",
        "    computer_cards.append(deal_card())\n",
        "user_score = calculate_score(user_cards)\n",
        "computer_score = calculate_score(computer_cards)\n",
        "print(f\"Your cards: {user_cards},Current score: {user_score}\")\n",
        "print(f\"Computer cards: {computer_cards},Current score: {computer_score}\")"
      ]
    }
  ]
}